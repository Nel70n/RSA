{
 "cells": [
  {
   "cell_type": "markdown",
   "metadata": {},
   "source": [
    "Гавно, которое преобразует набор бинов  в число"
   ]
  },
  {
   "cell_type": "code",
   "execution_count": 1,
   "metadata": {},
   "outputs": [
    {
     "name": "stdout",
     "output_type": "stream",
     "text": [
      "Unicode bin: b'333'\n",
      "Unicode hex: b'33 33 33'\n",
      "[b'33', b'33', b'33']\n",
      "51\n",
      "51\n",
      "51\n",
      "051051051\n"
     ]
    }
   ],
   "source": [
    "import binascii\n",
    "message_text = \"333\"\n",
    "message_bin = message_text.encode(\"UTF-8\")\n",
    "print(f'Unicode bin: {message_bin}')\n",
    "message_hex = binascii.b2a_hex(message_bin, \" \")\n",
    "print(f'Unicode hex: {message_hex}')\n",
    "message_decimal = list(message_hex.split(b' '))\n",
    "print(message_decimal)\n",
    "int_str = ''\n",
    "for i in message_decimal:\n",
    "    print(int(i, 16))\n",
    "    int_str += '0'*(3-len(str(int(i, 16))))+str(int(i, 16))\n",
    "print(int_str)"
   ]
  },
  {
   "cell_type": "markdown",
   "metadata": {},
   "source": [
    "Поиск коллизии для суммы сообщения 123332."
   ]
  },
  {
   "cell_type": "code",
   "execution_count": 2,
   "metadata": {},
   "outputs": [],
   "source": [
    "def ControlSum(message : str):\n",
    "    bin_message = message.encode(\"utf-8\")\n",
    "    resuls_control = bin_message[0]\n",
    "\n",
    "    # print(resuls_control)\n",
    "    for i in range(1, len(bin_message)):\n",
    "        # print(bin_message[i])\n",
    "        resuls_control ^=  bin_message[i]\n",
    "        \n",
    "    return resuls_control"
   ]
  },
  {
   "cell_type": "code",
   "execution_count": 5,
   "metadata": {},
   "outputs": [],
   "source": [
    "i = 1\n",
    "count = 1\n",
    "array = []\n",
    "while count != 100:\n",
    "    if ControlSum(str(i)) == ControlSum('123332'):\n",
    "        array.append(i)\n",
    "        count += 1\n",
    "    i += 1\n"
   ]
  },
  {
   "cell_type": "code",
   "execution_count": 7,
   "metadata": {},
   "outputs": [
    {
     "name": "stdout",
     "output_type": "stream",
     "text": [
      "[13, 20, 31, 46, 57, 64, 75, 1003, 1012, 1021, 1030, 1047, 1056, 1065, 1074, 1102, 1113, 1120, 1131, 1146, 1157, 1164, 1175, 1201, 1210, 1223, 1232, 1245, 1254, 1267, 1276, 1289, 1298, 1300, 1311, 1322, 1333, 1344, 1355, 1366, 1377, 1388, 1399, 1407, 1416, 1425, 1434, 1443, 1452, 1461, 1470, 1506, 1517, 1524, 1535, 1542, 1553, 1560, 1571, 1605, 1614, 1627, 1636, 1641, 1650, 1663, 1672, 1704, 1715, 1726, 1737, 1740, 1751, 1762, 1773, 1829, 1838, 1883, 1892, 1928, 1939, 1982, 1993, 2000, 2011, 2022, 2033, 2044, 2055, 2066, 2077, 2088, 2099, 2101, 2110, 2123, 2132, 2145, 2154, ]\n"
     ]
    }
   ],
   "source": [
    "print('[', end = '')\n",
    "for i in array:\n",
    "    print(i, end = ', ')\n",
    "print(']')"
   ]
  },
  {
   "cell_type": "code",
   "execution_count": 3,
   "metadata": {},
   "outputs": [
    {
     "data": {
      "text/plain": [
       "12"
      ]
     },
     "execution_count": 3,
     "metadata": {},
     "output_type": "execute_result"
    }
   ],
   "source": [
    "ControlSum('84')"
   ]
  },
  {
   "cell_type": "code",
   "execution_count": null,
   "metadata": {},
   "outputs": [],
   "source": []
  }
 ],
 "metadata": {
  "interpreter": {
   "hash": "c91adaf7604d073498a7a4d58de9802ff1a4b8694a82971dba60e862bdc27c88"
  },
  "kernelspec": {
   "display_name": "Python 3.9.6 64-bit",
   "language": "python",
   "name": "python3"
  },
  "language_info": {
   "codemirror_mode": {
    "name": "ipython",
    "version": 3
   },
   "file_extension": ".py",
   "mimetype": "text/x-python",
   "name": "python",
   "nbconvert_exporter": "python",
   "pygments_lexer": "ipython3",
   "version": "3.9.6"
  },
  "orig_nbformat": 4
 },
 "nbformat": 4,
 "nbformat_minor": 2
}
